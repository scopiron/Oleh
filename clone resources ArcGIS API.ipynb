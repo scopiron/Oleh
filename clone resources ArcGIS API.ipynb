{
  "nbformat": 4,
  "nbformat_minor": 0,
  "metadata": {
    "colab": {
      "name": "Untitled1.ipynb",
      "provenance": [],
      "collapsed_sections": [
        "U_TTzSoOPN2g"
      ],
      "toc_visible": true,
      "authorship_tag": "ABX9TyNKELFMASEdE0sQQyOvfyzL",
      "include_colab_link": true
    },
    "kernelspec": {
      "name": "python3",
      "display_name": "Python 3"
    },
    "language_info": {
      "name": "python"
    }
  },
  "cells": [
    {
      "cell_type": "markdown",
      "metadata": {
        "id": "view-in-github",
        "colab_type": "text"
      },
      "source": [
        "<a href=\"https://colab.research.google.com/github/scopiron/Oleh/blob/master/clone%20resources%20ArcGIS%20API.ipynb\" target=\"_parent\"><img src=\"https://colab.research.google.com/assets/colab-badge.svg\" alt=\"Open In Colab\"/></a>"
      ]
    },
    {
      "cell_type": "markdown",
      "source": [
        "Clone resources"
      ],
      "metadata": {
        "id": "U_TTzSoOPN2g"
      }
    },
    {
      "cell_type": "code",
      "source": [
        "# Installing of arcgis python library\n",
        "!pip install arcgis==1.9.1"
      ],
      "metadata": {
        "id": "kKvVC3p-PQVG"
      },
      "execution_count": null,
      "outputs": []
    },
    {
      "cell_type": "code",
      "source": [
        "# Import needed libs\n",
        "import arcgis\n",
        "\n",
        "\n",
        "# Define connection credentials\n",
        "source_url = \"https://gis.tmrada.gov.ua/portal/\"\n",
        "source_username = \"admin\"\n",
        "source_password = \"Z4XteKh2D\"\n",
        "\n",
        "target_url = \"https://magneticonegis.maps.arcgis.com\"\n",
        "target_username = \"Sitedmin\"\n",
        "target_password = \"terutory2106\"\n",
        "\n",
        "# Create ArcGIS connection objects\n",
        "gis_source = arcgis.gis.GIS(url=source_url, username=source_username, password=source_password, verify_cert=False)\n",
        "gis_target = arcgis.gis.GIS(url=target_url, username=target_username, password=target_password)"
      ],
      "metadata": {
        "id": "OVhtEHlrPV_f"
      },
      "execution_count": null,
      "outputs": []
    },
    {
      "cell_type": "code",
      "source": [
        "# Define source item id\n",
        "id = 'b1298f2cf4ea41c7b4d453058354b450'\n",
        "\n",
        "# Create item object \n",
        "item = gis_source.content.get(id)\n",
        "item\n",
        "# Clonning item object to target GIS\n",
        "# Params:\n",
        "# item - list of item objects to clone\n",
        "# copy_data - if True create copies of all underlying data, if False create references\n",
        "# folder - name of folder to copy items to\n",
        "# search_existing_items - True to check if underlying data exists in target gis and if exists cloning does not happen \n",
        "cloned_items = gis_target.content.clone_items(items=[item], copy_data=True, folder='Демо: Інженерні мережі міста', search_existing_items=True, )"
      ],
      "metadata": {
        "id": "EokxlYohPY-p"
      },
      "execution_count": null,
      "outputs": []
    }
  ]
}